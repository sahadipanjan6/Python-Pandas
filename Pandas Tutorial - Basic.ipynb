{
 "cells": [
  {
   "cell_type": "code",
   "execution_count": 1,
   "metadata": {},
   "outputs": [],
   "source": [
    "# importing the required packages\n",
    "import pandas as pd\n",
    "import numpy as np"
   ]
  },
  {
   "cell_type": "code",
   "execution_count": 2,
   "metadata": {},
   "outputs": [
    {
     "name": "stdout",
     "output_type": "stream",
     "text": [
      "Series created is as follows:-\n",
      "\n",
      "0     35.467\n",
      "1     63.951\n",
      "2     80.940\n",
      "3     60.665\n",
      "4    127.061\n",
      "5     64.511\n",
      "6    318.523\n",
      "Name: My Sample Series, dtype: float64\n"
     ]
    }
   ],
   "source": [
    "# Pandas: SERIES\n",
    "\n",
    "# creating a series of floating-point integers\n",
    "my_series = pd.Series([35.467, 63.951, 80.940, 60.665,\n",
    "                       127.061, 64.511, 318.523])\n",
    "\n",
    "# setting the name of the created series\n",
    "my_series.name = \"My Sample Series\"\n",
    "\n",
    "# displaying the pandas-series\n",
    "print(\"Series created is as follows:-\\n\")\n",
    "print(my_series)"
   ]
  },
  {
   "cell_type": "code",
   "execution_count": 3,
   "metadata": {},
   "outputs": [
    {
     "name": "stdout",
     "output_type": "stream",
     "text": [
      "Datatype of the series: float64\n",
      "Elements of the series are: [ 35.467  63.951  80.94   60.665 127.061  64.511 318.523]\n",
      "Types of elements in the series: <class 'numpy.ndarray'>\n",
      "Enter the index: 3\n",
      "Element present at index 3 is: 60.665\n",
      "RangeIndex(start=0, stop=7, step=1)\n"
     ]
    }
   ],
   "source": [
    "# viewing the datatype of the whole series\n",
    "print(\"Datatype of the series:\", my_series.dtype)\n",
    "\n",
    "# displaying the values stored in the series\n",
    "print(\"Elements of the series are:\", my_series.values)\n",
    "\n",
    "# types of the elements of the series\n",
    "print(\"Types of elements in the series:\", type(my_series.values))\n",
    "\n",
    "# INDEXING and EXTRACTION of values from the series\n",
    "\n",
    "index = int(input(\"Enter the index: \"))\n",
    "print(\"Element present at index\", index, \"is:\", my_series[index])\n",
    "\n",
    "# checking the indexing format of the whole series\n",
    "print(my_series.index)"
   ]
  },
  {
   "cell_type": "code",
   "execution_count": 4,
   "metadata": {},
   "outputs": [
    {
     "name": "stdout",
     "output_type": "stream",
     "text": [
      "Modified Series is as follows:- \n",
      "\n",
      "Canada             35.467\n",
      "France             63.951\n",
      "Germany            80.940\n",
      "Italy              60.665\n",
      "Japan             127.061\n",
      "United Kingdom     64.511\n",
      "United States     318.523\n",
      "Name: My Sample Series, dtype: float64\n"
     ]
    }
   ],
   "source": [
    "# we can deliberately fix the names of indexes manually\n",
    "my_series.index = [\"Canada\", \"France\", \"Germany\", \"Italy\",\n",
    "                   \"Japan\", \"United Kingdom\", \"United States\"]\n",
    "\n",
    "# displaying the modified series\n",
    "print(\"Modified Series is as follows:- \\n\")\n",
    "print(my_series)"
   ]
  },
  {
   "cell_type": "code",
   "execution_count": 5,
   "metadata": {},
   "outputs": [
    {
     "name": "stdout",
     "output_type": "stream",
     "text": [
      "Enter the number of elements: 7\n",
      "Enter the keys one by one...\n",
      "\n",
      "Canada\n",
      "France\n",
      "Germany\n",
      "Italy\n",
      "Japan\n",
      "United Kingdom\n",
      "United States\n",
      "Enter the corresponding values...\n",
      "\n",
      "35.467\n",
      "63.951\n",
      "80.940\n",
      "60.665\n",
      "127.061\n",
      "64.511\n",
      "318.523\n",
      "Newly formed Series is as follows:- \n",
      "\n",
      "Canada             35.467\n",
      "France             63.951\n",
      "Germany            80.940\n",
      "Italy              60.665\n",
      "Japan             127.061\n",
      "United Kingdom     64.511\n",
      "United States     318.523\n",
      "Name: My New Sample Series, dtype: object\n"
     ]
    }
   ],
   "source": [
    "# Creating the same series out of an ORDERED DICTIONARY\n",
    "\n",
    "# creating the dictionary(key-value pairs)\n",
    "my_dictionary = {}\n",
    "\n",
    "number_of_elements = int(input(\"Enter the number of elements: \"))\n",
    "list_of_keys, list_of_values = [], []\n",
    "\n",
    "print(\"Enter the keys one by one...\\n\")\n",
    "for i in range(number_of_elements):\n",
    "    list_of_keys.append(input())\n",
    "    \n",
    "print(\"Enter the corresponding values...\\n\")\n",
    "for j in range(number_of_elements):\n",
    "    list_of_values.append(input())\n",
    "    \n",
    "for k in range(number_of_elements):\n",
    "    # inserting the key-value pairs in the dictionary\n",
    "    my_dictionary[list_of_keys[k]] = list_of_values[k]\n",
    "    \n",
    "# forming the series with this dictionary\n",
    "my_series_new = pd.Series(my_dictionary, name=\"My New Sample Series\")\n",
    "\n",
    "# displaying the newly formed series\n",
    "print(\"Newly formed Series is as follows:- \\n\")\n",
    "print(my_series_new)\n"
   ]
  },
  {
   "cell_type": "code",
   "execution_count": 7,
   "metadata": {},
   "outputs": [
    {
     "name": "stdout",
     "output_type": "stream",
     "text": [
      "Enter the name of the index: United Kingdom\n",
      "Value at index United Kingdom is: 64.511\n"
     ]
    }
   ],
   "source": [
    "# retrieving an element from the series by giving its index value\n",
    "index_name = input(\"Enter the name of the index: \")\n",
    "\n",
    "# traversing the series and finding out the value\n",
    "found = False\n",
    "for i in my_series_new.index:\n",
    "    if i == index_name:\n",
    "        print(\"Value at index\", index_name,\"is:\", end=\" \")\n",
    "        print(my_series_new[index_name])\n",
    "        found = True\n",
    "        break\n",
    "        \n",
    "if found == False:\n",
    "    print(\"Index is not found inside the series, check once again!!!\")"
   ]
  },
  {
   "cell_type": "code",
   "execution_count": 8,
   "metadata": {},
   "outputs": [
    {
     "name": "stdout",
     "output_type": "stream",
     "text": [
      "Enter the location: 3\n",
      "Value at index 3 is: 60.665\n"
     ]
    }
   ],
   "source": [
    "# retrieving an element from the series by using the iloc() function\n",
    "location = int(input(\"Enter the location: \"))\n",
    "\n",
    "if location <= (len(my_series_new) - 1):\n",
    "    print(\"Value at index\", location,\"is:\", end=\" \")\n",
    "    print(my_series_new.iloc[location])\n",
    "    \n",
    "else:\n",
    "    print(\"Index is not found inside the series, check once again!!!\")"
   ]
  },
  {
   "cell_type": "code",
   "execution_count": 9,
   "metadata": {},
   "outputs": [
    {
     "name": "stdout",
     "output_type": "stream",
     "text": [
      "Enter the number of indexes: 2\n",
      "\n",
      "Enter the index names one by one...\n",
      "\n",
      "Canada\n",
      "United States\n",
      "Values of the named indexes are as follows:- \n",
      "\n",
      "Canada            35.467\n",
      "United States    318.523\n",
      "Name: My New Sample Series, dtype: object\n"
     ]
    }
   ],
   "source": [
    "# searching mutilple elements from the series at a time\n",
    "index_names_list = []\n",
    "\n",
    "number_of_indexes = int(input(\"Enter the number of indexes: \"))\n",
    "print(\"\\nEnter the index names one by one...\\n\")\n",
    "for i in range(number_of_indexes):\n",
    "    index_names_list.append(input())\n",
    "    \n",
    "# displaying the values in the series corresponding to the named indexes\n",
    "print(\"Values of the named indexes are as follows:- \\n\")\n",
    "print(my_series_new[index_names_list])"
   ]
  },
  {
   "cell_type": "code",
   "execution_count": 10,
   "metadata": {},
   "outputs": [
    {
     "name": "stdout",
     "output_type": "stream",
     "text": [
      "Enter the starting index name: Canada\n",
      "Enter the ending index name: United Kingdom\n",
      "Sub-series is as follows:- \n",
      "\n",
      "Canada             35.467\n",
      "France             63.951\n",
      "Germany            80.940\n",
      "Italy              60.665\n",
      "Japan             127.061\n",
      "United Kingdom     64.511\n",
      "Name: My New Sample Series, dtype: object\n"
     ]
    }
   ],
   "source": [
    "# SLICING example in Pandas\n",
    "\n",
    "lowerbound_named_index = input(\"Enter the starting index name: \")\n",
    "upperbound_named_index = input(\"Enter the ending index name: \")\n",
    "\n",
    "# displaying the sub-series \n",
    "print(\"Sub-series is as follows:- \\n\")\n",
    "print(my_series_new[lowerbound_named_index : upperbound_named_index])"
   ]
  },
  {
   "cell_type": "code",
   "execution_count": 11,
   "metadata": {},
   "outputs": [
    {
     "name": "stdout",
     "output_type": "stream",
     "text": [
      "Truthfulness of the series:- \n",
      "\n",
      "Canada            False\n",
      "France            False\n",
      "Germany            True\n",
      "Italy             False\n",
      "Japan              True\n",
      "United Kingdom    False\n",
      "United States      True\n",
      "Name: My Sample Series, dtype: bool\n",
      "\n",
      "Actual elements meeting the above condition are as follows:- \n",
      "\n",
      "Germany           80.940\n",
      "Japan            127.061\n",
      "United States    318.523\n",
      "Name: My Sample Series, dtype: float64\n",
      "\n",
      "Mean of the series: 107.30257142857144 \n",
      "\n",
      "Elements having values greater than the Mean of the series:- \n",
      "\n",
      "Japan            127.061\n",
      "United States    318.523\n",
      "Name: My Sample Series, dtype: float64\n"
     ]
    }
   ],
   "source": [
    "# BOOLEAN SERIES\n",
    "\n",
    "# displaying the truthfulness of the series based up on a certain condition(>70 or not)\n",
    "boolean_list = []\n",
    "print(\"Truthfulness of the series:- \\n\")\n",
    "print(my_series>70)\n",
    "print()\n",
    "\n",
    "# displaying the actual elements of the series satisfying the above criteria\n",
    "print(\"Actual elements meeting the above condition are as follows:- \\n\")\n",
    "print(my_series[my_series > 70])\n",
    "\n",
    "# finding the Mean/Average of all the elements in the series\n",
    "print(\"\\nMean of the series:\", my_series.mean(), \"\\n\")\n",
    "\n",
    "# displaying the elements of the series who has value greater than the MEAN\n",
    "print(\"Elements having values greater than the Mean of the series:- \\n\")\n",
    "print(my_series[my_series > my_series.mean()])"
   ]
  },
  {
   "cell_type": "code",
   "execution_count": 12,
   "metadata": {},
   "outputs": [
    {
     "name": "stdout",
     "output_type": "stream",
     "text": [
      "Performing Addition:- \n",
      "\n",
      "Canada            1035.467\n",
      "France            1063.951\n",
      "Germany           1080.940\n",
      "Italy             1060.665\n",
      "Japan             1127.061\n",
      "United Kingdom    1064.511\n",
      "United States     1318.523\n",
      "Name: My Sample Series, dtype: float64 \n",
      "\n",
      "Performing Subtraction:- \n",
      "\n",
      "Canada           -964.533\n",
      "France           -936.049\n",
      "Germany          -919.060\n",
      "Italy            -939.335\n",
      "Japan            -872.939\n",
      "United Kingdom   -935.489\n",
      "United States    -681.477\n",
      "Name: My Sample Series, dtype: float64 \n",
      "\n",
      "Performing Multiplication:- \n",
      "\n",
      "Canada             35467.0\n",
      "France             63951.0\n",
      "Germany            80940.0\n",
      "Italy              60665.0\n",
      "Japan             127061.0\n",
      "United Kingdom     64511.0\n",
      "United States     318523.0\n",
      "Name: My Sample Series, dtype: float64 \n",
      "\n",
      "Performing Division:- \n",
      "\n",
      "Canada            0.0\n",
      "France            0.0\n",
      "Germany           0.0\n",
      "Italy             0.0\n",
      "Japan             0.0\n",
      "United Kingdom    0.0\n",
      "United States     0.0\n",
      "Name: My Sample Series, dtype: float64 \n",
      "\n",
      "Performing Exponentiation:- \n",
      "\n",
      "Canada            4.461423e+04\n",
      "France            2.615423e+05\n",
      "Germany           5.302609e+05\n",
      "Italy             2.232619e+05\n",
      "Japan             2.051336e+06\n",
      "United Kingdom    2.684734e+05\n",
      "United States     3.231636e+07\n",
      "Name: My Sample Series, dtype: float64\n",
      "\n",
      "Logarithmic values of the whole series are as follows:- \n",
      "\n",
      "Canada            3.568603\n",
      "France            4.158117\n",
      "Germany           4.393708\n",
      "Italy             4.105367\n",
      "Japan             4.844667\n",
      "United Kingdom    4.166836\n",
      "United States     5.763695\n",
      "Name: My Sample Series, dtype: float64\n"
     ]
    }
   ],
   "source": [
    "# Operations and Methods in Series\n",
    "\n",
    "# Mathematical Operations\n",
    "print(\"Performing Addition:- \\n\")\n",
    "print(my_series + 1000, \"\\n\")\n",
    "print(\"Performing Subtraction:- \\n\")\n",
    "print(my_series - 1000, \"\\n\")\n",
    "print(\"Performing Multiplication:- \\n\")\n",
    "print(my_series * 1000, \"\\n\")\n",
    "print(\"Performing Division:- \\n\")\n",
    "print(my_series // 1000, \"\\n\")\n",
    "print(\"Performing Exponentiation:- \\n\")\n",
    "print(my_series ** 3)\n",
    "\n",
    "# Logarithmic operation\n",
    "print(\"\\nLogarithmic values of the whole series are as follows:- \\n\")\n",
    "print(np.log(my_series))"
   ]
  },
  {
   "cell_type": "code",
   "execution_count": 13,
   "metadata": {},
   "outputs": [
    {
     "name": "stdout",
     "output_type": "stream",
     "text": [
      "Enter the starting index: 2\n",
      "Enter the ending index: 4\n",
      "Mean of the sub-series is: 70.8025\n"
     ]
    }
   ],
   "source": [
    "# Finding the MEAN/AVERAGE of the values of a Sub-Series\n",
    "\n",
    "lowerbound_index = int(input(\"Enter the starting index: \"))\n",
    "upperbound_index = int(input(\"Enter the ending index: \"))\n",
    "\n",
    "print(\"Mean of the sub-series is:\", (my_series[lowerbound_index : upperbound_index].mean()))"
   ]
  },
  {
   "cell_type": "code",
   "execution_count": null,
   "metadata": {},
   "outputs": [],
   "source": []
  }
 ],
 "metadata": {
  "kernelspec": {
   "display_name": "Python 3",
   "language": "python",
   "name": "python3"
  },
  "language_info": {
   "codemirror_mode": {
    "name": "ipython",
    "version": 3
   },
   "file_extension": ".py",
   "mimetype": "text/x-python",
   "name": "python",
   "nbconvert_exporter": "python",
   "pygments_lexer": "ipython3",
   "version": "3.7.4"
  }
 },
 "nbformat": 4,
 "nbformat_minor": 2
}
